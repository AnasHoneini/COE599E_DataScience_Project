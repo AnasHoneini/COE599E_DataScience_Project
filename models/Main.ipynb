{
  "cells": [
    {
      "cell_type": "code",
      "execution_count": null,
      "metadata": {
        "id": "BYxujUSwc_lM"
      },
      "outputs": [],
      "source": [
        "import imutils\n",
        "from imutils.contours import sort_contours\n",
        "import numpy as np\n",
        "import cv2\n",
        "from google.colab.patches import cv2_imshow\n",
        "import os\n",
        "import csv\n",
        "\n",
        "\n",
        "##the function bellow aims to find and sort contours input images##\n",
        "\n",
        "def find_contours(img):\n",
        "    # preprocess the image by blurring to remove noise and converting to grey scale\n",
        "    to_grey_scale = cv2.cvtColor(img, cv2.COLOR_BGR2GRAY)\n",
        "    to_blurred = cv2.GaussianBlur(to_grey_scale, (1, 1), 0)\n",
        "    (thresh, bw) = cv2.threshold(to_blurred, 100, 255, cv2.THRESH_BINARY) #change here\n",
        "\n",
        "    # detect the edges\n",
        "    # compute the lower and upper threshold for canny method\n",
        "    sigma = 0.23  # default value\n",
        "    median_pix = np.median(img)\n",
        "    lower = int(max(0, (1 - sigma) * median_pix))\n",
        "    upper = int(min(255, (1 + sigma) * median_pix))\n",
        "    # get the edged image\n",
        "    to_edged = cv2.Canny(bw, lower, upper)\n",
        "  \n",
        "\n",
        "    # find and sort contours from left to right\n",
        "    contours = cv2.findContours(\n",
        "        to_edged.copy(), cv2.RETR_EXTERNAL, cv2.CHAIN_APPROX_SIMPLE\n",
        "    )\n",
        "    contours = imutils.grab_contours(contours)\n",
        "    contours = sort_contours(contours, method=\"left_to_right\")[0]\n",
        "    return contours\n",
        "\n",
        "\n",
        "##The function below finds bounding boxes of an input image\n",
        "\n",
        "\n",
        "def find_bounding_box(img):\n",
        "\n",
        "    characters = []\n",
        "\n",
        "    contours = find_contours(img)\n",
        "    paddedArray = []\n",
        "    for contour in contours:\n",
        "        # get the bounding box for each contour\n",
        "        (x, y, w, h) = cv2.boundingRect(contour)\n",
        "\n",
        "        # extract the character and threshold it\n",
        "\n",
        "        to_gray = cv2.cvtColor(img, cv2.COLOR_BGR2GRAY)\n",
        "        cropped = to_gray[y : y + h, x : x + w]\n",
        "        thresholded = cv2.threshold(\n",
        "            cropped, 0, 255, cv2.THRESH_BINARY_INV | cv2.THRESH_OTSU\n",
        "        )[1]\n",
        "        (H, W) = thresholded.shape\n",
        "        #print(H,W)\n",
        "        if H<10:\n",
        "          continue\n",
        "        if W<10:\n",
        "          continue\n",
        "\n",
        "        # make 32x32 pixels\n",
        "        # output = cv2.resize(thresholded, (32,32))\n",
        "        if W > H:\n",
        "            thresholded = imutils.resize(thresholded, width=28)\n",
        "        # otherwise, resize along the height\n",
        "        else:\n",
        "            thresholded = imutils.resize(thresholded, height=28)\n",
        "\n",
        "        # pad instead of extending\n",
        "        (H, W) = thresholded.shape\n",
        "        X_padding = int(\n",
        "            max(0, 28 - W) / 2.0\n",
        "        )  # if W =32 we won't need to pad on the X-axis\n",
        "        Y_padding = int(\n",
        "            max(0, 28 - H) / 2.0\n",
        "        )  # if H = 32 we won't need to padd on the y-axis\n",
        "\n",
        "        # pad the image and force 32x32 dimensions\n",
        "        padded = cv2.copyMakeBorder(\n",
        "            thresholded,\n",
        "            top=Y_padding,\n",
        "            bottom=Y_padding,\n",
        "            left=X_padding,\n",
        "            right=X_padding,\n",
        "            borderType=cv2.BORDER_CONSTANT,\n",
        "            value=(0, 0, 0),\n",
        "        )\n",
        "\n",
        "        padded = cv2.resize(padded, (64, 64))\n",
        "        paddedArray.append(padded)\n",
        "        # add character image and dimension from original image into the characters array\n",
        "        characters.append((padded, (x, y, w, h)))\n",
        "\n",
        "    return characters, paddedArray\n",
        "\n",
        "\n",
        "\n",
        "\n"
      ]
    },
    {
      "cell_type": "code",
      "execution_count": null,
      "metadata": {
        "id": "dKqBTsX3ajis"
      },
      "outputs": [],
      "source": [
        "from skimage import exposure\n",
        "import joblib \n",
        "\n",
        "# Load the saved model\n",
        "svc = joblib.load('/content/drive/MyDrive/Models/best_model_knn.pkl')\n",
        "knn = joblib.load('/content/drive/MyDrive/Models/best_model_svc.pkl')\n",
        "mlp = joblib.load('/content/drive/MyDrive/Models/best_model_mlp.pkl')\n"
      ]
    },
    {
      "cell_type": "code",
      "source": [
        "def crop_nb(img,Thresh):\n",
        "\n",
        "\n",
        "  img_eq = exposure.equalize_hist(img)\n",
        "\n",
        "  # Upscale the image to double its size using bicubic interpolation\n",
        "  img = cv2.resize(img,(img.shape[1]*4, img.shape[0]*4))\n",
        "  \n",
        "  # Get the dimensions of the image\n",
        "  height, width, channels = img.shape\n",
        "\n",
        "  # Set the crop box dimensions\n",
        "  left = int(width * 0.5)\n",
        "  top = int(height * 0.8)\n",
        "  right = int(width*0.93)\n",
        "  bottom = int(height*0.9)  # 25% of the bottom\n",
        "\n",
        "\n",
        "  #  Crop the image\n",
        "  cropped_img = img[top:bottom, left:right]\n",
        "  img = cv2.threshold(cropped_img, Thresh, 255, cv2.THRESH_BINARY)[1] #change here\n",
        "  return img"
      ],
      "metadata": {
        "id": "xxGFTIkHvJxW"
      },
      "execution_count": null,
      "outputs": []
    },
    {
      "cell_type": "code",
      "source": [
        "img =cv2.imread(\"/content/drive/MyDrive/ProcessedImages/id1.jpg\")\n",
        "\n",
        "img2=[]\n",
        "\n",
        "ThreshSet = False\n",
        "Thresh = 60\n",
        "while ThreshSet== False and Thresh<255 :\n",
        "  try:\n",
        "    print(Thresh)\n",
        "    img2 = crop_nb(img,Thresh)\n",
        "    #cv2_imshow(img)\n",
        "    char,padd = find_bounding_box(img2)\n",
        "    if len(padd) == 12:\n",
        "      cv2_imshow(img2)\n",
        "      ThreshSet= True\n",
        "      for i in padd:\n",
        "        show =cv2_imshow(i)\n",
        "        resized =  cv2.resize(i, (28, 28))\n",
        "        x = [resized.flatten(),]\n",
        "        print(knn.predict(x),\n",
        "              svc.predict(x),mlp.predict(x))\n",
        "    else:\n",
        "      Thresh+=5\n",
        "  except: \n",
        "    Thresh+= 5"
      ],
      "metadata": {
        "colab": {
          "base_uri": "https://localhost:8080/",
          "height": 1000
        },
        "id": "hdGkzaf3vxIa",
        "outputId": "3cda3f01-2ce1-47e0-a581-8d952008bbcf"
      },
      "execution_count": null,
      "outputs": [
        {
          "output_type": "stream",
          "name": "stdout",
          "text": [
            "60\n",
            "65\n",
            "70\n",
            "75\n",
            "80\n",
            "85\n",
            "90\n",
            "95\n",
            "100\n",
            "105\n",
            "110\n",
            "115\n"
          ]
        },
        {
          "output_type": "stream",
          "name": "stderr",
          "text": [
            "/usr/local/lib/python3.10/dist-packages/skimage/_shared/utils.py:394: UserWarning: This might be a color image. The histogram will be computed on the flattened image. You can instead apply this function to each color channel, or set channel_axis.\n",
            "  return func(*args, **kwargs)\n"
          ]
        },
        {
          "output_type": "stream",
          "name": "stdout",
          "text": [
            "120\n",
            "125\n",
            "130\n",
            "135\n",
            "140\n",
            "145\n",
            "150\n"
          ]
        },
        {
          "output_type": "display_data",
          "data": {
            "text/plain": [
              "<PIL.Image.Image image mode=RGB size=617x94 at 0x7F9D4A1AE9E0>"
            ],
            "image/png": "[encoded data removed]"
          },
          "metadata": {}
        },
        {
          "output_type": "display_data",
          "data": {
            "text/plain": [
              "<PIL.Image.Image image mode=L size=64x64 at 0x7F9D4A1ADC90>"
            ],
            "image/png": "[encoded data removed]"
          },
          "metadata": {}
        },
        {
          "output_type": "stream",
          "name": "stdout",
          "text": [
            "[0] [0] [0]\n"
          ]
        },
        {
          "output_type": "display_data",
          "data": {
            "text/plain": [
              "<PIL.Image.Image image mode=L size=64x64 at 0x7F9D4A1ACEE0>"
            ],
            "image/png": "[encoded data removed]"
          },
          "metadata": {}
        },
        {
          "output_type": "stream",
          "name": "stdout",
          "text": [
            "[0] [0] [0]\n"
          ]
        },
        {
          "output_type": "display_data",
          "data": {
            "text/plain": [
              "<PIL.Image.Image image mode=L size=64x64 at 0x7F9D4A1AE3B0>"
            ],
            "image/png": "[encoded data removed]"
          },
          "metadata": {}
        },
        {
          "output_type": "stream",
          "name": "stdout",
          "text": [
            "[0] [0] [0]\n"
          ]
        },
        {
          "output_type": "display_data",
          "data": {
            "text/plain": [
              "<PIL.Image.Image image mode=L size=64x64 at 0x7F9D3F0C7FD0>"
            ],
            "image/png": "[encoded data removed]"
          },
          "metadata": {}
        },
        {
          "output_type": "stream",
          "name": "stdout",
          "text": [
            "[0] [0] [0]\n"
          ]
        },
        {
          "output_type": "display_data",
          "data": {
            "text/plain": [
              "<PIL.Image.Image image mode=L size=64x64 at 0x7F9D3F0C7AC0>"
            ],
            "image/png": "[encoded data removed]"
          },
          "metadata": {}
        },
        {
          "output_type": "stream",
          "name": "stdout",
          "text": [
            "[4] [4] [4]\n"
          ]
        },
        {
          "output_type": "display_data",
          "data": {
            "text/plain": [
              "<PIL.Image.Image image mode=L size=64x64 at 0x7F9D3F0C7820>"
            ],
            "image/png": "[encoded data removed]"
          },
          "metadata": {}
        },
        {
          "output_type": "stream",
          "name": "stdout",
          "text": [
            "[4] [4] [4]\n"
          ]
        },
        {
          "output_type": "display_data",
          "data": {
            "text/plain": [
              "<PIL.Image.Image image mode=L size=64x64 at 0x7F9D3F0C7BE0>"
            ],
            "image/png": "[encoded data removed]"
          },
          "metadata": {}
        },
        {
          "output_type": "stream",
          "name": "stdout",
          "text": [
            "[7] [7] [7]\n"
          ]
        },
        {
          "output_type": "display_data",
          "data": {
            "text/plain": [
              "<PIL.Image.Image image mode=L size=64x64 at 0x7F9D3F0C7AC0>"
            ],
            "image/png": "[encoded data removed]"
          },
          "metadata": {}
        },
        {
          "output_type": "stream",
          "name": "stdout",
          "text": [
            "[0] [5] [0]\n"
          ]
        },
        {
          "output_type": "display_data",
          "data": {
            "text/plain": [
              "<PIL.Image.Image image mode=L size=64x64 at 0x7F9D3F0C7820>"
            ],
            "image/png": "[encoded data removed]"
          },
          "metadata": {}
        },
        {
          "output_type": "stream",
          "name": "stdout",
          "text": [
            "[5] [5] [5]\n"
          ]
        },
        {
          "output_type": "display_data",
          "data": {
            "text/plain": [
              "<PIL.Image.Image image mode=L size=64x64 at 0x7F9D3F0C77C0>"
            ],
            "image/png": "[encoded data removed]"
          },
          "metadata": {}
        },
        {
          "output_type": "stream",
          "name": "stdout",
          "text": [
            "[4] [4] [4]\n"
          ]
        },
        {
          "output_type": "display_data",
          "data": {
            "text/plain": [
              "<PIL.Image.Image image mode=L size=64x64 at 0x7F9D3F0C7400>"
            ],
            "image/png": "[encoded data removed]"
          },
          "metadata": {}
        },
        {
          "output_type": "stream",
          "name": "stdout",
          "text": [
            "[2] [2] [2]\n"
          ]
        },
        {
          "output_type": "display_data",
          "data": {
            "text/plain": [
              "<PIL.Image.Image image mode=L size=64x64 at 0x7F9D4A1AE3B0>"
            ],
            "image/png": "[encoded data removed]"
          },
          "metadata": {}
        },
        {
          "output_type": "stream",
          "name": "stdout",
          "text": [
            "[3] [3] [3]\n"
          ]
        }
      ]
    }
  ],
  "metadata": {
    "colab": {
      "provenance": []
    },
    "kernelspec": {
      "display_name": "Python 3",
      "name": "python3"
    },
    "language_info": {
      "name": "python"
    }
  },
  "nbformat": 4,
  "nbformat_minor": 0
}